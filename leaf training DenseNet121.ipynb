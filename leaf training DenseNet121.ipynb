{
 "cells": [
  {
   "cell_type": "code",
   "execution_count": 1,
   "id": "4201601a",
   "metadata": {},
   "outputs": [],
   "source": [
    "#Importing necessary libraries.\n",
    "\n",
    "import tensorflow as tf\n",
    "import numpy as np\n",
    "import pandas as pd\n",
    "import matplotlib.pyplot as plt\n",
    "import sys\n",
    "import os\n",
    "from tensorflow.keras.applications.vgg16 import VGG16\n",
    "from tensorflow.keras.applications.densenet import DenseNet121\n",
    "from numpy import load\n",
    "from tensorflow.keras import layers\n",
    "from tensorflow.keras import models\n",
    "from tensorflow.keras.preprocessing.image import ImageDataGenerator\n",
    "from keras.callbacks import ModelCheckpoint, ReduceLROnPlateau"
   ]
  },
  {
   "cell_type": "code",
   "execution_count": 2,
   "id": "9a6074ec",
   "metadata": {},
   "outputs": [],
   "source": [
    "#Loading the training, testing and validation data\n",
    "\n",
    "traindir = r\"...input/directory-name\"\n",
    "validdir = r\"...input/directory-name\"\n",
    "testdir = r\"...input/directory-name\""
   ]
  },
  {
   "cell_type": "code",
   "execution_count": 3,
   "id": "9c4b30b6",
   "metadata": {},
   "outputs": [],
   "source": [
    "train_datagen = ImageDataGenerator(rescale=1./255,\n",
    "                                   shear_range=0.2,\n",
    "                                   zoom_range=0.2,\n",
    "                                   width_shift_range=0.2,\n",
    "                                   height_shift_range=0.2,\n",
    "                                   fill_mode='nearest')"
   ]
  },
  {
   "cell_type": "code",
   "execution_count": 4,
   "id": "19ef918f",
   "metadata": {},
   "outputs": [],
   "source": [
    "valid_datagen = ImageDataGenerator(rescale=1./255)"
   ]
  },
  {
   "cell_type": "code",
   "execution_count": null,
   "id": "4fea865b",
   "metadata": {},
   "outputs": [],
   "source": [
    "#Getting a basic summary of our training, testing and validation data."
   ]
  },
  {
   "cell_type": "code",
   "execution_count": 5,
   "id": "732d027f",
   "metadata": {},
   "outputs": [
    {
     "name": "stdout",
     "output_type": "stream",
     "text": [
      "Found 70295 images belonging to 38 classes.\n"
     ]
    }
   ],
   "source": [
    "batch_size = 64\n",
    "\n",
    "training_set = train_datagen.flow_from_directory(traindir,\n",
    "                                                 target_size=(255, 255),\n",
    "                                                 batch_size=batch_size,\n",
    "                                                 class_mode='categorical')"
   ]
  },
  {
   "cell_type": "code",
   "execution_count": 6,
   "id": "22ea5e9e",
   "metadata": {},
   "outputs": [
    {
     "name": "stdout",
     "output_type": "stream",
     "text": [
      "Found 17572 images belonging to 38 classes.\n"
     ]
    }
   ],
   "source": [
    "valid_set = valid_datagen.flow_from_directory(validdir,\n",
    "                                              target_size=(255, 255),\n",
    "                                              batch_size=batch_size,\n",
    "                                              class_mode='categorical')"
   ]
  },
  {
   "cell_type": "code",
   "execution_count": 7,
   "id": "395eebaa",
   "metadata": {},
   "outputs": [
    {
     "name": "stdout",
     "output_type": "stream",
     "text": [
      "38\n"
     ]
    }
   ],
   "source": [
    "class_dict = training_set.class_indices\n",
    "li = list(class_dict.keys())"
   ]
  },
  {
   "cell_type": "code",
   "execution_count": 8,
   "id": "75d5bb3b",
   "metadata": {},
   "outputs": [],
   "source": [
    "train_num = training_set.samples\n",
    "valid_num = valid_set.samples"
   ]
  },
  {
   "cell_type": "code",
   "execution_count": null,
   "id": "24620570",
   "metadata": {},
   "outputs": [],
   "source": []
  },
  {
   "cell_type": "code",
   "execution_count": null,
   "id": "8d6d50a1",
   "metadata": {},
   "outputs": [],
   "source": [
    "#Loading our CNN model. The model makes use of the DenseNet121 architecture. Dense121, also known as DenseNet-121, is a deep convolutional neural network \n",
    "#architecture that is part of the DenseNet family. DenseNet is characterized by its dense connectivity pattern, where each layer is directly connected to \n",
    "#every other layer in a feed-forward fashion. DenseNet-121 specifically refers to a version of the DenseNet architecture that has 121 layers. It is widely \n",
    "#used in computer vision tasks, such as image classification, object detection, and segmentation, due to its ability to efficiently capture feature \n",
    "#representations and handle vanishing gradient issues. DenseNet-121 has demonstrated strong performance on various image datasets and is widely used as a \n",
    "#pre-trained model for transfer learning in many computer vision applications. "
   ]
  },
  {
   "cell_type": "code",
   "execution_count": 9,
   "id": "5e65f3f3",
   "metadata": {},
   "outputs": [
    {
     "name": "stdout",
     "output_type": "stream",
     "text": [
      "Metal device set to: Apple M1\n"
     ]
    },
    {
     "name": "stderr",
     "output_type": "stream",
     "text": [
      "2022-01-26 16:36:38.122353: I tensorflow/core/common_runtime/pluggable_device/pluggable_device_factory.cc:305] Could not identify NUMA node of platform GPU ID 0, defaulting to 0. Your kernel may not have been built with NUMA support.\n",
      "2022-01-26 16:36:38.122451: I tensorflow/core/common_runtime/pluggable_device/pluggable_device_factory.cc:271] Created TensorFlow device (/job:localhost/replica:0/task:0/device:GPU:0 with 0 MB memory) -> physical PluggableDevice (device: 0, name: METAL, pci bus id: <undefined>)\n"
     ]
    }
   ],
   "source": [
    "base_model=DenseNet121(include_top=False, input_shape=(255,255,3), weights='imagenet')\n",
    "base_model.trainable=False"
   ]
  },
  {
   "cell_type": "code",
   "execution_count": 10,
   "id": "f6efb84b",
   "metadata": {},
   "outputs": [
    {
     "name": "stdout",
     "output_type": "stream",
     "text": [
      "Model: \"sequential\"\n",
      "_________________________________________________________________\n",
      "Layer (type)                 Output Shape              Param #   \n",
      "=================================================================\n",
      "densenet121 (Functional)     (None, 8, 8, 1024)        7037504   \n",
      "_________________________________________________________________\n",
      "flatten (Flatten)            (None, 65536)             0         \n",
      "_________________________________________________________________\n",
      "dense (Dense)                (None, 38)                2490406   \n",
      "=================================================================\n",
      "Total params: 9,527,910\n",
      "Trainable params: 2,490,406\n",
      "Non-trainable params: 7,037,504\n",
      "_________________________________________________________________\n"
     ]
    }
   ],
   "source": [
    "classifier = models.Sequential()\n",
    "\n",
    "classifier.add(base_model)\n",
    "classifier.add(layers.Flatten())\n",
    "classifier.add(layers.Dense(38, activation='softmax'))\n",
    "classifier.summary()\n",
    "\n",
    "#The last dense layer represents the number of disease classes. In case you want to train on lesser or more \n",
    "#classes, make sure to update the number of classes here too."
   ]
  },
  {
   "cell_type": "code",
   "execution_count": null,
   "id": "259cd7c8",
   "metadata": {},
   "outputs": [],
   "source": [
    "#Learning rate callback\n",
    "\n",
    "reduce_lr = ReduceLROnPlateau(monitor='val_loss', factor=0.2,\n",
    "                              patience=2, min_lr=0.001)"
   ]
  },
  {
   "cell_type": "code",
   "execution_count": 12,
   "id": "3388fccd",
   "metadata": {},
   "outputs": [],
   "source": [
    "opt = tf.keras.optimizers.Adam()\n",
    "\n",
    "classifier.compile(optimizer=opt,\n",
    "                   loss='categorical_crossentropy',\n",
    "                   metrics=['accuracy'])"
   ]
  },
  {
   "cell_type": "code",
   "execution_count": 13,
   "id": "22262455",
   "metadata": {
    "scrolled": false
   },
   "outputs": [
    {
     "name": "stderr",
     "output_type": "stream",
     "text": [
      "2022-01-26 16:36:39.896821: I tensorflow/compiler/mlir/mlir_graph_optimization_pass.cc:185] None of the MLIR Optimization Passes are enabled (registered 2)\n",
      "2022-01-26 16:36:39.896940: W tensorflow/core/platform/profile_utils/cpu_utils.cc:128] Failed to get CPU frequency: 0 Hz\n"
     ]
    },
    {
     "name": "stdout",
     "output_type": "stream",
     "text": [
      "Epoch 1/30\n"
     ]
    },
    {
     "name": "stderr",
     "output_type": "stream",
     "text": [
      "2022-01-26 16:36:41.162822: I tensorflow/core/grappler/optimizers/custom_graph_optimizer_registry.cc:112] Plugin optimizer for device_type GPU is enabled.\n"
     ]
    },
    {
     "name": "stdout",
     "output_type": "stream",
     "text": [
      "1099/1099 [==============================] - ETA: 0s - loss: 1.9974 - accuracy: 0.8294"
     ]
    },
    {
     "name": "stderr",
     "output_type": "stream",
     "text": [
      "2022-01-26 16:59:22.201678: I tensorflow/core/grappler/optimizers/custom_graph_optimizer_registry.cc:112] Plugin optimizer for device_type GPU is enabled.\n"
     ]
    },
    {
     "name": "stdout",
     "output_type": "stream",
     "text": [
      "1099/1099 [==============================] - 2277s 2s/step - loss: 1.9974 - accuracy: 0.8294 - val_loss: 1.3418 - val_accuracy: 0.9067\n",
      "Epoch 2/30\n",
      "1099/1099 [==============================] - 1495s 1s/step - loss: 1.4142 - accuracy: 0.9068 - val_loss: 1.0423 - val_accuracy: 0.9408\n",
      "Epoch 3/30\n",
      "1099/1099 [==============================] - 1677s 2s/step - loss: 1.4012 - accuracy: 0.9238 - val_loss: 1.6073 - val_accuracy: 0.9280\n",
      "Epoch 4/30\n",
      "1099/1099 [==============================] - 1823s 2s/step - loss: 1.3430 - accuracy: 0.9351 - val_loss: 1.4693 - val_accuracy: 0.9416\n",
      "Epoch 5/30\n",
      "1099/1099 [==============================] - 1758s 2s/step - loss: 1.3348 - accuracy: 0.9407 - val_loss: 1.0349 - val_accuracy: 0.9601\n",
      "Epoch 6/30\n",
      "1099/1099 [==============================] - 1748s 2s/step - loss: 1.3220 - accuracy: 0.9455 - val_loss: 1.6134 - val_accuracy: 0.9450\n",
      "Epoch 7/30\n",
      "1099/1099 [==============================] - 1759s 2s/step - loss: 1.3371 - accuracy: 0.9496 - val_loss: 1.0453 - val_accuracy: 0.9621\n",
      "Epoch 8/30\n",
      "1099/1099 [==============================] - 1733s 2s/step - loss: 1.2364 - accuracy: 0.9532 - val_loss: 1.0941 - val_accuracy: 0.9635\n",
      "Epoch 9/30\n",
      "1099/1099 [==============================] - 1731s 2s/step - loss: 1.2622 - accuracy: 0.9539 - val_loss: 1.2249 - val_accuracy: 0.9619\n",
      "Epoch 10/30\n",
      "1099/1099 [==============================] - 1834s 2s/step - loss: 1.1410 - accuracy: 0.9595 - val_loss: 1.8113 - val_accuracy: 0.9486\n",
      "Epoch 11/30\n",
      "1099/1099 [==============================] - 1913s 2s/step - loss: 1.1534 - accuracy: 0.9597 - val_loss: 1.8766 - val_accuracy: 0.9526\n",
      "Epoch 12/30\n",
      "1099/1099 [==============================] - 1969s 2s/step - loss: 1.1801 - accuracy: 0.9610 - val_loss: 1.5385 - val_accuracy: 0.9605\n",
      "Epoch 13/30\n",
      "1099/1099 [==============================] - 1847s 2s/step - loss: 1.1371 - accuracy: 0.9630 - val_loss: 1.7930 - val_accuracy: 0.9578\n",
      "Epoch 14/30\n",
      "1099/1099 [==============================] - 1925s 2s/step - loss: 1.0580 - accuracy: 0.9654 - val_loss: 1.2870 - val_accuracy: 0.9679\n",
      "Epoch 15/30\n",
      "1099/1099 [==============================] - 1781s 2s/step - loss: 1.1284 - accuracy: 0.9641 - val_loss: 1.2801 - val_accuracy: 0.9688\n",
      "Epoch 16/30\n",
      "1099/1099 [==============================] - 2316s 2s/step - loss: 1.0081 - accuracy: 0.9686 - val_loss: 1.4311 - val_accuracy: 0.9653\n",
      "Epoch 17/30\n",
      "1099/1099 [==============================] - 1516s 1s/step - loss: 1.0483 - accuracy: 0.9683 - val_loss: 1.5032 - val_accuracy: 0.9642\n",
      "Epoch 18/30\n",
      "1099/1099 [==============================] - 1685s 2s/step - loss: 1.0376 - accuracy: 0.9691 - val_loss: 1.2179 - val_accuracy: 0.9717\n",
      "Epoch 19/30\n",
      "1099/1099 [==============================] - 1992s 2s/step - loss: 1.0964 - accuracy: 0.9676 - val_loss: 1.0307 - val_accuracy: 0.9751\n",
      "Epoch 20/30\n",
      "1099/1099 [==============================] - 2257s 2s/step - loss: 1.0229 - accuracy: 0.9705 - val_loss: 1.2981 - val_accuracy: 0.9709\n",
      "Epoch 21/30\n",
      "1099/1099 [==============================] - 1670s 2s/step - loss: 0.9829 - accuracy: 0.9719 - val_loss: 1.0368 - val_accuracy: 0.9744\n",
      "Epoch 22/30\n",
      "1099/1099 [==============================] - 1683s 2s/step - loss: 0.9880 - accuracy: 0.9719 - val_loss: 1.1741 - val_accuracy: 0.9723\n",
      "Epoch 23/30\n",
      "1099/1099 [==============================] - 29607s 27s/step - loss: 0.9683 - accuracy: 0.9720 - val_loss: 1.0894 - val_accuracy: 0.9748\n",
      "Epoch 24/30\n",
      "1099/1099 [==============================] - 1823s 2s/step - loss: 0.9418 - accuracy: 0.9732 - val_loss: 1.2182 - val_accuracy: 0.9718\n",
      "Epoch 25/30\n",
      "1099/1099 [==============================] - 1799s 2s/step - loss: 0.9925 - accuracy: 0.9733 - val_loss: 1.4999 - val_accuracy: 0.9709\n",
      "Epoch 26/30\n",
      "1099/1099 [==============================] - 1795s 2s/step - loss: 0.9326 - accuracy: 0.9741 - val_loss: 1.4283 - val_accuracy: 0.9698\n",
      "Epoch 27/30\n",
      "1099/1099 [==============================] - 1948s 2s/step - loss: 0.9601 - accuracy: 0.9749 - val_loss: 1.3591 - val_accuracy: 0.9714\n",
      "Epoch 28/30\n",
      "1099/1099 [==============================] - 1839s 2s/step - loss: 0.9060 - accuracy: 0.9754 - val_loss: 1.2780 - val_accuracy: 0.9712\n",
      "Epoch 29/30\n",
      "1099/1099 [==============================] - 1676s 2s/step - loss: 0.9251 - accuracy: 0.9757 - val_loss: 1.4425 - val_accuracy: 0.9718\n",
      "Epoch 30/30\n",
      "1099/1099 [==============================] - 1848s 2s/step - loss: 0.8806 - accuracy: 0.9762 - val_loss: 1.2854 - val_accuracy: 0.9710\n"
     ]
    }
   ],
   "source": [
    "history = classifier.fit(training_set,\n",
    "                         steps_per_epoch=1099,\n",
    "                         validation_data=valid_set,\n",
    "                         validation_steps=275,\n",
    "                         callbacks = [reduce_lr],\n",
    "                         epochs=30)"
   ]
  },
  {
   "cell_type": "code",
   "execution_count": null,
   "id": "2b129b09",
   "metadata": {},
   "outputs": [],
   "source": []
  },
  {
   "cell_type": "code",
   "execution_count": null,
   "id": "bf2f775b",
   "metadata": {},
   "outputs": [],
   "source": [
    "#Plotting our model's accuracy, loss, validation accuracy and validation loss."
   ]
  },
  {
   "cell_type": "code",
   "execution_count": 14,
   "id": "1348f5f3",
   "metadata": {},
   "outputs": [],
   "source": [
    "accuracy = history.history['accuracy']\n",
    "loss = history.history['loss']\n",
    "val_accuracy = history.history['val_accuracy']\n",
    "val_loss = history.history['val_loss']"
   ]
  },
  {
   "cell_type": "code",
   "execution_count": 15,
   "id": "07e2bf28",
   "metadata": {},
   "outputs": [
    {
     "data": {
      "text/plain": [
       "<matplotlib.legend.Legend at 0x15c18b5b0>"
      ]
     },
     "execution_count": 15,
     "metadata": {},
     "output_type": "execute_result"
    },
    {
     "data": {
      "image/png": "[encoded data removed]",
      "text/plain": [
       "<Figure size 432x288 with 1 Axes>"
      ]
     },
     "metadata": {
      "needs_background": "light"
     },
     "output_type": "display_data"
    }
   ],
   "source": [
    "epochs = range(len(accuracy))\n",
    "\n",
    "plt.plot(epochs, accuracy, 'blue', label='Training accuracy')\n",
    "plt.plot(epochs, val_accuracy, 'red', label='Validation accuracy')\n",
    "plt.legend()"
   ]
  },
  {
   "cell_type": "code",
   "execution_count": null,
   "id": "9fce3347",
   "metadata": {},
   "outputs": [],
   "source": [
    "#Saving our model."
   ]
  },
  {
   "cell_type": "code",
   "execution_count": 16,
   "id": "6d5c76b3",
   "metadata": {},
   "outputs": [],
   "source": [
    "filepath = r\"/Users/aaryanmehta/Desktop/Aaryan/archive/Plant_Disease_Model_DenseNet121.h5\""
   ]
  },
  {
   "cell_type": "code",
   "execution_count": 17,
   "id": "6143ede9",
   "metadata": {},
   "outputs": [],
   "source": [
    "classifier.save(filepath)"
   ]
  },
  {
   "cell_type": "code",
   "execution_count": null,
   "id": "9bb966c6",
   "metadata": {},
   "outputs": [],
   "source": []
  }
 ],
 "metadata": {
  "kernelspec": {
   "display_name": "Python 3 (ipykernel)",
   "language": "python",
   "name": "python3"
  },
  "language_info": {
   "codemirror_mode": {
    "name": "ipython",
    "version": 3
   },
   "file_extension": ".py",
   "mimetype": "text/x-python",
   "name": "python",
   "nbconvert_exporter": "python",
   "pygments_lexer": "ipython3",
   "version": "3.9.12"
  }
 },
 "nbformat": 4,
 "nbformat_minor": 5
}
